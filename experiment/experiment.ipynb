{
 "cells": [
  {
   "cell_type": "markdown",
   "metadata": {},
   "source": [
    "# Experiment\n",
    "\n",
    "Richard Wen  \n",
    "rwen@ryerson.ca  \n",
    "\n",
    "This notebook details an experiment on stop sign detection using [Google Street View images](https://developers.google.com/maps/documentation/streetview/). The object detection model is based on the [Haar Cascade Classifier](http://docs.opencv.org/3.2.0/dc/d88/tutorial_traincascade.html) by [Viola and Jones (2001)](https://www.cs.cmu.edu/~efros/courses/LBMV07/Papers/viola-cvpr-01.pdf) available in the [Open Source Computer Vision (OpenCV)](http://opencv.org/) software."
   ]
  },
  {
   "cell_type": "markdown",
   "metadata": {},
   "source": [
    "## 1.0 Requirements\n",
    "\n",
    "* [Anaconda Python 3](https://www.continuum.io/downloads)\n",
    "* [OpenCV3](http://opencv.org/)\n",
    "* [google_streetview](https://pypi.python.org/pypi/google-streetview/)\n",
    "* [matplotlib](https://matplotlib.org/)\n",
    "* [numpy](http://www.numpy.org/)\n",
    "* [requests](https://pypi.python.org/pypi/requests)"
   ]
  },
  {
   "cell_type": "markdown",
   "metadata": {},
   "source": [
    "### 1.1 Setup\n",
    "\n",
    "Import the following modules:"
   ]
  },
  {
   "cell_type": "code",
   "execution_count": 2,
   "metadata": {
    "collapsed": true
   },
   "outputs": [],
   "source": [
    "%matplotlib inline\n",
    "\n",
    "from glob import glob\n",
    "from os import makedirs, path\n",
    "\n",
    "import cv2\n",
    "import google_streetview.api\n",
    "import json\n",
    "import numpy as np\n",
    "import matplotlib.patches as patches\n",
    "import matplotlib.pyplot as plt\n",
    "import requests\n",
    "import shutil\n",
    "import sys\n",
    "import warnings"
   ]
  },
  {
   "cell_type": "markdown",
   "metadata": {},
   "source": [
    "### 1.2 Folders\n",
    "\n",
    "The following folders are required:"
   ]
  },
  {
   "cell_type": "code",
   "execution_count": 110,
   "metadata": {
    "collapsed": false
   },
   "outputs": [],
   "source": [
    "folders = [\n",
    "    '_img',\n",
    "    'data',\n",
    "    'positives',\n",
    "    'negatives'\n",
    "]\n",
    "for folder_path in folders:\n",
    "    if not path.isdir(folder_path):\n",
    "        makedirs(folder_path)"
   ]
  },
  {
   "cell_type": "markdown",
   "metadata": {
    "collapsed": false
   },
   "source": [
    "### 1.3 Functions\n",
    "\n",
    "The following functions are needed"
   ]
  },
  {
   "cell_type": "code",
   "execution_count": 3,
   "metadata": {
    "collapsed": true
   },
   "outputs": [],
   "source": [
    "def classify(model_path, images):\n",
    "    \"\"\"Download data from a url.\n",
    "\n",
    "    Downloads the data from a Uniform Resource Locator (URL) link with requests and saves it into a file with shutil.\n",
    "\n",
    "    Args:\n",
    "        model_path (str):\n",
    "            Path of the Haar Cascade xml file.\n",
    "        images (list):\n",
    "            List of image file paths to use for classification.\n",
    "    Returns:\n",
    "        A ``dict`` of the image path and rectangular region of detected objects.\n",
    "    \"\"\"\n",
    "    model = cv2.CascadeClassifier(model_path)\n",
    "    detected = []\n",
    "    for image_path in images:\n",
    "        image = cv2.imread(image_path)\n",
    "        grayscale = cv2.cvtColor(image, cv2.COLOR_BGR2GRAY)\n",
    "        rectangles = model.detectMultiScale(grayscale)\n",
    "        if len(rectangles) > 0:\n",
    "            detected.append({\n",
    "                'image_path': image_path,\n",
    "                'rectangle': rectangles[0]\n",
    "            })\n",
    "    return detected\n",
    "\n",
    "def download(url, file_path):\n",
    "    \"\"\"Download data from a url.\n",
    "\n",
    "    Downloads the data from a Uniform Resource Locator (URL) link with requests and saves it into a file with shutil.\n",
    "\n",
    "    Args:\n",
    "        url (str):\n",
    "            Path of directory to save downloads of images from :class:`api.results`.links\n",
    "        file_path (str):\n",
    "            Name of the file with extension to save the :class:`api.results`.metadata\n",
    "    \"\"\"\n",
    "    r = requests.get(url, stream=True)\n",
    "    if r.status_code == 200: # if request is successful\n",
    "        with open(file_path, 'wb') as f:\n",
    "            r.raw.decode_content = True\n",
    "            shutil.copyfileobj(r.raw, f)\n",
    "    else: # show warning if request fails\n",
    "        warnings.warn('Download failed for: ' + url)\n",
    "\n",
    "def plot_detected(detected, save_path=None, save_dpi=300):\n",
    "    \"\"\"Plot and save detected objects.\n",
    "    Args:\n",
    "        haars (listof numpy.array):\n",
    "            List of ``dict`` with image_path and rectangle keys.\n",
    "        save_path (str):\n",
    "            Path to save the examples.\n",
    "        save_dpi (int):\n",
    "            Resolution quality of the output file.\n",
    "    \"\"\"\n",
    "    \n",
    "    # Base plot\n",
    "    n = len(detected)\n",
    "    f, ax = plt.subplots(1, n)\n",
    "    ax = ax if n > 1 else [ax]\n",
    "    \n",
    "    # Plot detections\n",
    "    for i in range(n):\n",
    "        \n",
    "        # Obtain values\n",
    "        image_path = detected[i]['image_path']\n",
    "        x, y, w, h = detected[i]['rectangle']\n",
    "        \n",
    "        # Draw image and crop\n",
    "        image = cv2.imread(image_path)\n",
    "        image = image[y:y + h, x:x + w]\n",
    "        ax[i].imshow(image, cmap='gray_r')\n",
    "        \n",
    "        # Remove axis\n",
    "        ax[i].get_xaxis().set_visible(False)\n",
    "        ax[i].get_yaxis().set_visible(False)\n",
    "    \n",
    "    # Save plot\n",
    "    if save_path is not None:\n",
    "        plt.savefig(save_path, dpi=save_dpi)"
   ]
  },
  {
   "cell_type": "markdown",
   "metadata": {},
   "source": [
    "## 2.0 Performance Evaluation\n",
    "\n",
    "A set of positive and negative images were required to evaluate a Haar Cascade Classifier for stop signs. Positive images are example images that contain the object to be detected, and negative images are example images that do not contain the object to be detected. The positive and negative images were extracted by locating stop signs from [OpenStreetMap](https://www.openstreetmap.org), and querying Google Street View using those locations. The data was then manually inspected to be labelled as positive or negative, and was used for performance evaluation."
   ]
  },
  {
   "cell_type": "markdown",
   "metadata": {},
   "source": [
    "### 2.1 Data\n",
    "\n",
    "A [google_streetview](https://pypi.python.org/pypi/google-streetview/) Python package was developed to interact with the [Google Street View Image API](https://developers.google.com/maps/documentation/streetview/) and download Street View imagery.\n",
    "\n",
    "The `google_streetview` package was installed with a Python command line tool named `pip`:\n",
    "\n",
    "```\n",
    "pip install google_streetview\n",
    "```"
   ]
  },
  {
   "cell_type": "markdown",
   "metadata": {},
   "source": [
    "#### 2.1.1 Stop Sign Locations\n",
    "\n",
    "The stop sign locations were extracted for Toronto, Ontario, using the [Overpass API query language]((http://wiki.openstreetmap.org/wiki/Overpass_API/Language_Guide). Points in overpass are defined as `node`, and stop signs are tagged as `highway=stop`. A bounding box containing the latitude and longitude coordinates to the bottom left corner (`43.458297, -79.639219`), and top right corner (`43.8554579,-79.002481`) was used to filter points to Toronto. The final query is defined as `node[highway=stop](43.458297,-79.639219,43.8554579,-79.002481)`.\n",
    "\n",
    "The data was downloaded using a query string in a [Uniform Resource Locator](http://www.rfc-editor.org/rfc/rfc1738.txt) (URL) link into the folder `data/google_streetview`:"
   ]
  },
  {
   "cell_type": "code",
   "execution_count": 112,
   "metadata": {
    "collapsed": false
   },
   "outputs": [],
   "source": [
    "# Create overpass query string url\n",
    "overpass_server = 'http://overpass-api.de/api/interpreter?data='\n",
    "overpass_query = '[out:json];node[highway=stop](43.458297,-79.639219,43.8554579,-79.002481);out;'\n",
    "overpass_url = overpass_server + overpass_query\n",
    "\n",
    "# Download the json of stop sign locations\n",
    "download(overpass_url, 'data/locations.json')"
   ]
  },
  {
   "cell_type": "markdown",
   "metadata": {},
   "source": [
    "#### 2.1.2 Google Streetview Images\n",
    "\n",
    "The Google Street View images were extracted using the [Google Street View Image API](https://developers.google.com/maps/documentation/streetview/).\n",
    "\n",
    "The Google Street View Image API allowed the user to set the following parameters for free usage provided a [Developer Key](https://developers.google.com/api-client-library/python/guide/aaa_apikeys) (last updated June 26, 2017):\n",
    "\n",
    "* **location** or **pano** *[Required]*: coordinates (latitude, longitude) or address\n",
    "* **key** *[Required]*:  the google developer key\n",
    "* **heading**: compass rotation of camera from 0 to 360 degrees (the default directs it to face the location)\n",
    "* **fov**: horizontal field of view from 0 to 120 (default is 90)\n",
    "* **pitch**: vertical angle of camera from -90 to 90 with 0 being in the middle (the default is 0)\n",
    "* **size**: image size up to 640 by 640\n",
    "\n",
    "Out of the 10401 stop sign locations extracted from OpenStreetMap using the Overpass API, 99 were randomly selected to be used for object detection. These 99 locations were referred to as the testing data, and were used to extract 99 Google Street View images using the `google_streetview` package. The extracted Street View images were then manually inspected to divide them into positive (image has a stop sign), and negative (image does not have a stop sign) labels."
   ]
  },
  {
   "cell_type": "code",
   "execution_count": null,
   "metadata": {
    "collapsed": false
   },
   "outputs": [],
   "source": [
    "# Obtain stop sign locations data\n",
    "with open('data/locations.json') as json_file:\n",
    "    \n",
    "    # Extract locations\n",
    "    data = json.load(json_file)\n",
    "    locations = []\n",
    "    for element in data['elements']:\n",
    "        longitude = element['lon']\n",
    "        latitude = element['lat']\n",
    "        locations.append([latitude, longitude])\n",
    "    locations = np.array(locations)\n",
    "    np.savetxt('data/coordinates.txt', locations, fmt='%f')\n",
    "    \n",
    "    # Randomly select 99 locations\n",
    "    random = np.random.RandomState(0)\n",
    "    random_select = random.randint(locations.shape[0], size=100)\n",
    "    locations = locations[random_select]\n",
    "    np.savetxt('data/coordinates_random.txt', locations, fmt='%f')\n",
    "    \n",
    "\n",
    "# Define parameters for street view api\n",
    "dev_key = input('Developer Key: ')\n",
    "params = []\n",
    "for l in locations:\n",
    "    params.append({\n",
    "        'size': '640x640',\n",
    "        'location': str(l[0]) + ',' + str(l[1]),\n",
    "        'fov': '120',\n",
    "        'key': dev_key\n",
    "    })\n",
    "\n",
    "# Create a results object\n",
    "results = google_streetview.api.results(params)\n",
    "\n",
    "# Download images\n",
    "results.download_links('data/streetview')"
   ]
  },
  {
   "cell_type": "markdown",
   "metadata": {},
   "source": [
    "Manually label 19 Street View images positive to be copied to the `positives` folder for testing:"
   ]
  },
  {
   "cell_type": "code",
   "execution_count": 162,
   "metadata": {
    "collapsed": false
   },
   "outputs": [],
   "source": [
    "# Manually label positive images\n",
    "positives = [\n",
    "    'data/streetview\\\\gsv_1.jpg',\n",
    "    'data/streetview\\\\gsv_14.jpg',\n",
    "    'data/streetview\\\\gsv_18.jpg',\n",
    "    'data/streetview\\\\gsv_19.jpg',\n",
    "    'data/streetview\\\\gsv_20.jpg',\n",
    "    'data/streetview\\\\gsv_30.jpg',\n",
    "    'data/streetview\\\\gsv_32.jpg',\n",
    "    'data/streetview\\\\gsv_36.jpg',\n",
    "    'data/streetview\\\\gsv_38.jpg',\n",
    "    'data/streetview\\\\gsv_40.jpg',\n",
    "    'data/streetview\\\\gsv_46.jpg',\n",
    "    'data/streetview\\\\gsv_48.jpg',\n",
    "    'data/streetview\\\\gsv_49.jpg',\n",
    "    'data/streetview\\\\gsv_70.jpg',\n",
    "    'data/streetview\\\\gsv_71.jpg',\n",
    "    'data/streetview\\\\gsv_80.jpg',\n",
    "    'data/streetview\\\\gsv_81.jpg',\n",
    "    'data/streetview\\\\gsv_86.jpg',\n",
    "    'data/streetview\\\\gsv_87.jpg'\n",
    "]\n",
    "\n",
    "# Copy images to positives folder\n",
    "for image_path in positives:\n",
    "    shutil.copy(image_path, 'positives')"
   ]
  },
  {
   "cell_type": "markdown",
   "metadata": {},
   "source": [
    "Label the rest of the 80 Street View images that are not positive as negative to be copied to the `negatives` folder for testing:"
   ]
  },
  {
   "cell_type": "code",
   "execution_count": 163,
   "metadata": {
    "collapsed": true
   },
   "outputs": [],
   "source": [
    "# Label rest of images negative\n",
    "negatives = [x for x in glob('data/streetview/*.jpg') \n",
    "             if x not in positives]\n",
    "\n",
    "# Copy images to negatives folder\n",
    "for image_path in negatives:\n",
    "    shutil.copy(image_path, 'negatives')"
   ]
  },
  {
   "cell_type": "markdown",
   "metadata": {},
   "source": [
    "### 2.2 Classification\n",
    "\n",
    "The 99 Google Street View images that were divided into positive and negative labels were used as testing data.\n",
    "\n",
    "Using the Haar Cascade model provided by Github user [markgaynor](https://github.com/markgaynor) in `data/cascade.xml`, the positive data and negative data was classified as having a stop sign (positive) or not having a stop sign (negative):"
   ]
  },
  {
   "cell_type": "code",
   "execution_count": 4,
   "metadata": {
    "collapsed": false
   },
   "outputs": [],
   "source": [
    "# Testing data\n",
    "positive_tests = glob('positives/*.jpg')\n",
    "negative_tests = glob('negatives/*.jpg')\n",
    "\n",
    "# Classify street view images\n",
    "positive_detections = classify('data/cascade.xml', positive_tests)\n",
    "negative_detections = classify('data/cascade.xml', negative_tests)\n",
    "\n",
    "# Metrics\n",
    "d_positive = len(positive_detections) # num of detected positive images\n",
    "n_positive = len(positive_tests) # num of positive images\n",
    "d_negative = len(negative_detections) # num of detected negative images\n",
    "n_negative = len(negative_tests) # num of negative images"
   ]
  },
  {
   "cell_type": "markdown",
   "metadata": {},
   "source": [
    "Positive detections are show below:"
   ]
  },
  {
   "cell_type": "code",
   "execution_count": 165,
   "metadata": {
    "collapsed": false
   },
   "outputs": [
    {
     "name": "stdout",
     "output_type": "stream",
     "text": [
      "Correctly detected 6 out of 19\n"
     ]
    },
    {
     "data": {
      "image/png": "[encoded data removed]",
      "text/plain": [
       "<matplotlib.figure.Figure at 0x76212ec438>"
      ]
     },
     "metadata": {},
     "output_type": "display_data"
    }
   ],
   "source": [
    "print('Correctly detected ' + str(d_positive) + ' out of ' + str(n_positive))\n",
    "plot_detected(positive_detections, '_img/positive_detections.pdf')"
   ]
  },
  {
   "cell_type": "markdown",
   "metadata": {},
   "source": [
    "Negative detections are show below:"
   ]
  },
  {
   "cell_type": "code",
   "execution_count": 6,
   "metadata": {
    "collapsed": false
   },
   "outputs": [
    {
     "name": "stdout",
     "output_type": "stream",
     "text": [
      "Incorrectly detected 1 out of 80\n"
     ]
    },
    {
     "data": {
      "image/png": "[encoded data removed]",
      "text/plain": [
       "<matplotlib.figure.Figure at 0x4d2cdbf2b0>"
      ]
     },
     "metadata": {},
     "output_type": "display_data"
    }
   ],
   "source": [
    "print('Incorrectly detected ' + str(d_negative) + ' out of ' + str(n_negative))\n",
    "plot_detected(negative_detections, '_img/negative_detections.pdf')"
   ]
  },
  {
   "cell_type": "markdown",
   "metadata": {},
   "source": [
    "## References\n",
    "\n",
    "* [Face Detection using Haar Cascades](http://docs.opencv.org/3.2.0/d7/d8b/tutorial_py_face_detection.html)"
   ]
  }
 ],
 "metadata": {
  "kernelspec": {
   "display_name": "Python 3",
   "language": "python",
   "name": "python3"
  },
  "language_info": {
   "codemirror_mode": {
    "name": "ipython",
    "version": 3
   },
   "file_extension": ".py",
   "mimetype": "text/x-python",
   "name": "python",
   "nbconvert_exporter": "python",
   "pygments_lexer": "ipython3",
   "version": "3.6.1"
  }
 },
 "nbformat": 4,
 "nbformat_minor": 2
}
