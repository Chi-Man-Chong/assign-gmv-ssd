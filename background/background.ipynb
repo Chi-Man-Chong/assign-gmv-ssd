{
 "cells": [
  {
   "cell_type": "markdown",
   "metadata": {},
   "source": [
    "# Background\n",
    "\n",
    "Richard Wen  \n",
    "rwen@ryerson.ca  \n",
    "\n",
    "This notebook details the implementation of object detection models based on the [Haar Cascade Classifier](http://docs.opencv.org/3.2.0/dc/d88/tutorial_traincascade.html) by [Viola and Jones (2001)](https://www.cs.cmu.edu/~efros/courses/LBMV07/Papers/viola-cvpr-01.pdf) available in the [Open Source Computer Vision (OpenCV)](http://opencv.org/) software."
   ]
  },
  {
   "cell_type": "markdown",
   "metadata": {},
   "source": [
    "## 1.0 Requirements\n",
    "\n",
    "* [Anaconda Python 3](https://www.continuum.io/downloads)\n",
    "* [matplotlib](https://matplotlib.org/)\n",
    "* [numpy](http://www.numpy.org/)"
   ]
  },
  {
   "cell_type": "markdown",
   "metadata": {},
   "source": [
    "### 1.1 Setup\n",
    "\n",
    "Import the following modules:"
   ]
  },
  {
   "cell_type": "code",
   "execution_count": 1,
   "metadata": {
    "collapsed": false
   },
   "outputs": [],
   "source": [
    "%matplotlib inline\n",
    "\n",
    "from math import *\n",
    "from matplotlib import colors\n",
    "from matplotlib.patches import Polygon\n",
    "from os import makedirs, path\n",
    "\n",
    "import numpy as np\n",
    "import matplotlib.pyplot as plt"
   ]
  },
  {
   "cell_type": "markdown",
   "metadata": {},
   "source": [
    "### 1.2 Folders\n",
    "\n",
    "The following folders are required:"
   ]
  },
  {
   "cell_type": "code",
   "execution_count": 2,
   "metadata": {
    "collapsed": true
   },
   "outputs": [],
   "source": [
    "if not path.isdir('_img'):\n",
    "    makedirs('_img')"
   ]
  },
  {
   "cell_type": "markdown",
   "metadata": {},
   "source": [
    "### 1.3 Functions\n",
    "\n",
    "The following functions are needed:"
   ]
  },
  {
   "cell_type": "code",
   "execution_count": 3,
   "metadata": {
    "collapsed": true
   },
   "outputs": [],
   "source": [
    "def plot_haars(haars, save_path=None, save_dpi=300):\n",
    "    \"\"\"Plot and save Haar-like feature examples.\n",
    "    Args:\n",
    "        haars (listof numpy.array):\n",
    "            List of ``numpy.array`` images.\n",
    "        save_path (str):\n",
    "            Path to save the examples.\n",
    "        save_dpi (int):\n",
    "            Resolution quality of the output file.\n",
    "    \"\"\"\n",
    "    \n",
    "    # Base plot\n",
    "    n_feats = len(haars)\n",
    "    f, ax = plt.subplots(1, n_feats)\n",
    "    \n",
    "    # Plot examples\n",
    "    for i in range(n_feats):\n",
    "        ax[i].imshow(haars[i], cmap='gray_r')\n",
    "        ax[i].get_xaxis().set_visible(False)\n",
    "        ax[i].get_yaxis().set_visible(False)\n",
    "    \n",
    "    # Save plot\n",
    "    if save_path is not None:\n",
    "        plt.savefig(save_path, dpi=save_dpi)\n",
    "        \n",
    "def plot_pixels(pixels,\n",
    "                save_path=None,\n",
    "                save_dpi=300,\n",
    "                cmap=colors.ListedColormap(['white']),\n",
    "                labels=True,\n",
    "                coords=False,\n",
    "                func=None):\n",
    "    \"\"\"Plot and save Haar-like feature examples.\n",
    "    Args:\n",
    "        pixels (listof numpy.array):\n",
    "            A list of ``numpy.array`` images.\n",
    "        save_path (str):\n",
    "            Path to save the examples.\n",
    "        save_dpi (int):\n",
    "            Resolution quality of the output file.\n",
    "        cmap (matplotlib.colors.ListedColormap OR str):\n",
    "            A ``matplotlib.colors.ListedColormap`` object or a string reference to one.\n",
    "        labels (bool):\n",
    "            Whether to plot the values as labels or not.\n",
    "        coords (bool):\n",
    "            Whether to plot the coordinates or not.\n",
    "        func (function):\n",
    "            A function consuming a ``matplotlib.pyplot.figure`` and\n",
    "            ``matplotlib.pyplot.axis`` to run before saving the plot.\n",
    "    \"\"\"\n",
    "    \n",
    "    # Base plot\n",
    "    f, ax = plt.subplots()\n",
    "    \n",
    "    # Remove axis ticks\n",
    "    ax.get_xaxis().set_ticks([])\n",
    "    ax.get_yaxis().set_ticks([])\n",
    "    \n",
    "    # Pixel borders\n",
    "    ax.set_xticks(np.arange(-0.5, 10, 1), minor=True);\n",
    "    ax.set_yticks(np.arange(-0.5, 10, 1), minor=True);\n",
    "    ax.grid(which='minor', axis='both', linestyle='-', linewidth=2)\n",
    "    \n",
    "    # Add pixel value labels\n",
    "    for (x,y), label in np.ndenumerate(pixels):\n",
    "        ax.imshow(pixels, cmap=cmap)\n",
    "        if labels:\n",
    "            ax.text(x, y, label, ha='center', va='center')\n",
    "        if coords:\n",
    "            ax.text(x, y, '\\n\\n(' + str(x) + ', ' + str(y) + ')', ha='center', va='center')\n",
    "    \n",
    "    # Apply custom function\n",
    "    if func is not None:\n",
    "        func(f, ax)\n",
    "    \n",
    "    # Save plot\n",
    "    if save_path is not None:\n",
    "        plt.savefig(save_path, dpi=save_dpi)\n",
    "      "
   ]
  },
  {
   "cell_type": "markdown",
   "metadata": {},
   "source": [
    "## 2.0 Viola and Jones Algorithm\n",
    "\n",
    "The Viola and Jones algorithm provides an efficient object detection process for images using a machine learning approach [1]. The algorithm involves the following steps in order:\n",
    "\n",
    "1. **Feature creation**: abstraction of pixels into simple rectangular features\n",
    "2. **Learning classifiers**: learn function for feature selection based on lowest misclassification\n",
    "3. **Cascading classifiers**: negative sub-window rejection for efficient computation"
   ]
  },
  {
   "cell_type": "markdown",
   "metadata": {},
   "source": [
    "### 3.0 Feature Creation\n",
    "\n",
    "The feature creation process involves creating Haar-like features from pixels in an image. Haar-like features are simple rectangular features computed from individual image pixels. Integral images are used to efficiently create Haar-like features from images by computing rectangular sums in constant time. This section provides details on Haar-like features and integral images for object detection in images. "
   ]
  },
  {
   "cell_type": "markdown",
   "metadata": {},
   "source": [
    "#### 3.1 Haar-like Features\n",
    "\n",
    "Haar-like features form abstract representations of individual pixels from a grayscale image. For example, a rectangular region of an image can contain an abstract representation such as a line or an edge, which is defined by the gradient changes between light and dark pixels. The dimensions of each rectangular region are defined by the user, where Viola and Jones [1] suggests that 24 by 24 regions are optimal through empirical observation. In addition to the rectangular regions, Haar-like features consist of additional rectangular sub-regions with aggregated pixel values to capture a simplified structure. Each sub-region containing individual pixels can be either white or black, where the sum of the white regions subtracted from the sum of the black regions produce a single value to be used for object detection."
   ]
  },
  {
   "cell_type": "markdown",
   "metadata": {},
   "source": [
    "Two-rectangle edge features proposed by Papageogiou et al. [2]:"
   ]
  },
  {
   "cell_type": "code",
   "execution_count": 4,
   "metadata": {
    "collapsed": false
   },
   "outputs": [
    {
     "data": {
      "image/png": "[encoded data removed]",
      "text/plain": [
       "<matplotlib.figure.Figure at 0x35688c2eb8>"
      ]
     },
     "metadata": {},
     "output_type": "display_data"
    }
   ],
   "source": [
    "papageogiou_haars = [\n",
    "    np.array([\n",
    "        [-1, 1],\n",
    "        [-1, 1]\n",
    "    ]),\n",
    "    np.array([\n",
    "        [-1, -1],\n",
    "        [1, 1]\n",
    "    ])\n",
    "]\n",
    "plot_haars(papageogiou_haars, '_img/haars_papageogiou.pdf')"
   ]
  },
  {
   "cell_type": "markdown",
   "metadata": {},
   "source": [
    "Three-rectangle line features from three feature rectangles introduced by Viola and Jones [1]:"
   ]
  },
  {
   "cell_type": "code",
   "execution_count": 5,
   "metadata": {
    "collapsed": false
   },
   "outputs": [
    {
     "data": {
      "image/png": "[encoded data removed]",
      "text/plain": [
       "<matplotlib.figure.Figure at 0x3568da2b00>"
      ]
     },
     "metadata": {},
     "output_type": "display_data"
    }
   ],
   "source": [
    "violajones_haars = [\n",
    "    np.array([\n",
    "        [-1, 1, -1],\n",
    "        [-1, 1, -1],\n",
    "        [-1, 1, -1]\n",
    "    ]),\n",
    "    np.array([\n",
    "        [-1, -1, -1],\n",
    "        [1, 1, 1],\n",
    "        [-1, -1, -1]\n",
    "    ])\n",
    "]\n",
    "plot_haars(violajones_haars, '_img/haars_violajones.pdf')"
   ]
  },
  {
   "cell_type": "markdown",
   "metadata": {},
   "source": [
    "Rotated edge and line features proposed by Lienhardt and Maydt [3]:"
   ]
  },
  {
   "cell_type": "code",
   "execution_count": 6,
   "metadata": {
    "collapsed": false,
    "scrolled": true
   },
   "outputs": [
    {
     "data": {
      "image/png": "[encoded data removed]",
      "text/plain": [
       "<matplotlib.figure.Figure at 0x3568e8d358>"
      ]
     },
     "metadata": {},
     "output_type": "display_data"
    }
   ],
   "source": [
    "lienmaydt_haars1 = [\n",
    "    np.array([\n",
    "        [1, 1, 1, 1],\n",
    "        [1, 1, 1, -1],\n",
    "        [1, 1, -1, -1],\n",
    "        [1, -1, -1, -1]\n",
    "    ]),\n",
    "    np.array([\n",
    "        [1, 1, -1, -1],\n",
    "        [1, 1, 1, -1],\n",
    "        [-1, 1, 1, 1],\n",
    "        [-1, -1, 1, 1]\n",
    "    ])]\n",
    "plot_haars(lienmaydt_haars1, '_img/haars_lienmaydt1.pdf')"
   ]
  },
  {
   "cell_type": "markdown",
   "metadata": {},
   "source": [
    "Center-surround features described by Lienhardt and Maydt [3]:"
   ]
  },
  {
   "cell_type": "code",
   "execution_count": 7,
   "metadata": {
    "collapsed": false
   },
   "outputs": [
    {
     "data": {
      "image/png": "[encoded data removed]",
      "text/plain": [
       "<matplotlib.figure.Figure at 0x3568f7c5f8>"
      ]
     },
     "metadata": {},
     "output_type": "display_data"
    }
   ],
   "source": [
    "lienmaydt_haars2 = [\n",
    "    np.array([\n",
    "        [-1, -1, -1, -1],\n",
    "        [-1, 1, 1, -1],\n",
    "        [-1, 1, 1, -1],\n",
    "        [-1, -1, -1, -1]\n",
    "    ]),\n",
    "    np.array([\n",
    "        [-1, -1, -1, -1, -1, -1, -1],\n",
    "        [-1, -1, -1, 1, -1, -1, -1],\n",
    "        [-1, -1, 1, 1, 1, -1, -1],\n",
    "        [-1, 1, 1, 1, 1, 1, -1],\n",
    "        [-1, -1, 1, 1, 1, -1, -1],\n",
    "        [-1, -1, -1, 1, -1, -1, -1],\n",
    "        [-1, -1, -1, -1, -1, -1, -1]\n",
    "    ])\n",
    "]\n",
    "plot_haars(lienmaydt_haars2, '_img/haars_lienmaydt2.pdf')"
   ]
  },
  {
   "cell_type": "markdown",
   "metadata": {},
   "source": [
    "#### 3.2 Integral Images\n",
    "\n",
    "Integral images (also known as summed area tables) are pre-computed to efficiently calculate sums in rectangular regions of an image [4]. An integral image is created by inclusively summing each pixel in the original image by the pixels that are to the left and above as seen in the following Equation:\n",
    "\n",
    "$$ii(x, y) = \\sum_{x_i \\leq x, y_i \\leq y}{i(x_i, y_i)}$$\n",
    "\n",
    "where $ii(x,y)$ is the integral image at row $x$ and column $y$, and $i(x_i, y_i)$ is the original image pixels that are to the left and above $ii(x,y)$."
   ]
  },
  {
   "cell_type": "code",
   "execution_count": 8,
   "metadata": {
    "collapsed": true
   },
   "outputs": [],
   "source": [
    "def ii_xy(i, x, y):\n",
    "    \"\"\"Calculate integral pixel of image i at row x and column y.\n",
    "    Args:\n",
    "        i (numpy.array):\n",
    "            A ``numpy.array`` of the original image.\n",
    "        x (int):\n",
    "            Row of integral image.\n",
    "        y (int):\n",
    "            Column of integral image.\n",
    "    Returns:\n",
    "        A ``numpy.array`` of the integral image.\n",
    "    \"\"\"\n",
    "    xi_lte_x = range(x + 1) # xi <= x\n",
    "    yi_lte_y = range(y + 1) # yi <= y\n",
    "    ii = sum([i[xi, yi] for xi in xi_lte_x for yi in yi_lte_y])\n",
    "    return ii"
   ]
  },
  {
   "cell_type": "markdown",
   "metadata": {},
   "source": [
    "The sum of rectangular regions can be then be efficiently calculated using the pixel values of the pre-computed integral image as seen in the following Equations:\n",
    "\n",
    "A rectangular region is defined by a pair of top-left and bottom-right corner coordinates:\n",
    "\n",
    "$$(x_1, y_1), (x_2, y_2)$$\n",
    "\n",
    "where $(x_1, y_1)$ are the top-left coordinates of the rectangular region, and \n",
    "$(x_2, y_2)$ are the bottom-right coordinates of the rectangular region.\n",
    "\n",
    "Four integral image pixel values relative to the top-left and bottom-right coordinates of the rectangular region are defined by:\n",
    "\n",
    "$$\n",
    "A = ii(x_1 - 1, y_1 - 1)\n",
    "    \\begin{cases}\n",
    "        0: \\text{if} & x_1 - 1 \\not\\in \\left\\{ x_{min} \\dots x_{max} \\right\\} \\\\\n",
    "        0: \\text{if} & y_1 - 1 \\not\\in \\left\\{ y_{min} \\dots y_{max} \\right\\} \\\\\n",
    "    \\end{cases}\n",
    "$$\n",
    "\n",
    "$$\n",
    "B = ii(x_2, y_1 - 1)\n",
    "    \\begin{cases}\n",
    "        0: \\text{if} & x_2 \\not\\in \\left\\{ x_{min} \\dots x_{max} \\right\\} \\\\\n",
    "        0: \\text{if} & y_1 - 1 \\not\\in \\left\\{ y_{min} \\dots y_{max} \\right\\} \\\\\n",
    "    \\end{cases}\n",
    "$$\n",
    "\n",
    "$$\n",
    "C = ii(x_1 - 1, y_2)\n",
    "    \\begin{cases}\n",
    "        0: \\text{if} & x_1 - 1 \\not\\in \\left\\{ x_{min} \\dots x_{max} \\right\\} \\\\\n",
    "        0: \\text{if} & y_2 \\not\\in \\left\\{ y_{min} \\dots y_{max} \\right\\} \\\\\n",
    "    \\end{cases}\n",
    "$$\n",
    "\n",
    "$$\n",
    "D = ii(x_2, y_2)\n",
    "    \\begin{cases}\n",
    "        0: \\text{if} & x_2 \\not\\in \\left\\{ x_{min} \\dots x_{max} \\right\\} \\\\\n",
    "        0: \\text{if} & y_2 \\not\\in \\left\\{ y_{min} \\dots y_{max} \\right\\} \\\\\n",
    "    \\end{cases}\n",
    "$$\n",
    "\n",
    "where if the coordinates $x_1, y_1, x_2, y_2$ are outside the $x_{min}, y_{min}, x_{max}, y_{max}$ dimensions of the integral image $ii$, then the value will be 0, otherwise the respective pixel values from $ii$ of $A, B, C, D$ are assigned.\n",
    "\n",
    "The sum of the pixel values inside the original image is given by:\n",
    "\n",
    "$$S_i(x_1, y_1, x_2, y_2) = D - B - C + A$$\n",
    "\n",
    "where $S_i(x_1, y_1, x_2, y_2)$ is the sum of all pixel values of the original image $i$ inside the rectangular region, which is defined by the top-left coordinates $x_1, y_1$ and bottom-right coordinates $x_2, y_2$.\n",
    "\n",
    "The brute force method for the sum of all pixels inside the rectangular region requires the access of $n$ pixels inside the rectangular region ($O(n)$), while the integral image enables the sum to be computed by at most 4 pixel accesses in the integral image at constant time ($O(1)$). The integral images can be used to process Haar-like features efficiently as two-rectangle features require at most 8 pixel accesses, and three-rectangle features require at most 12 accesses for features of any dimension."
   ]
  },
  {
   "cell_type": "code",
   "execution_count": 9,
   "metadata": {
    "collapsed": true
   },
   "outputs": [],
   "source": [
    "def Si(x1, y1, x2, y2, ii):\n",
    "    \"\"\"Adds a rectangular region and integral pixel letters to a pixel plot.\n",
    "    Args:\n",
    "        x1 (int):\n",
    "            The row coordinate for the top-left corner of the rectangular region.\n",
    "        y1 (int):\n",
    "            The column coordinate for the top-left corner of the rectangular region.\n",
    "        x2 (int):\n",
    "            The row coordinate for the bottom-right corner of the rectangular region.\n",
    "        y2 (int):\n",
    "            The column coordinate for the bottom-right corner of the rectangular region.\n",
    "        ii (numpy.array):\n",
    "            A ``numpy.array`` of the integral image.\n",
    "    Returns:\n",
    "        A number representing the sum of pixels inside the rectangular region.\n",
    "    \"\"\"\n",
    "    \n",
    "    # Define dimensions of ii\n",
    "    xmin = 0\n",
    "    xmax = ii.shape[0]\n",
    "    ymin = 0\n",
    "    ymax = ii.shape[1]\n",
    "    \n",
    "    # Define zero conditions of A, B, C, D\n",
    "    A_zero = x1 - 1 < xmin or x1 - 1 > xmax or y1 - 1 < ymin or y1 - 1 > ymax\n",
    "    B_zero = x2 < xmin or x2 > xmax or y1 - 1 < ymin or y1 - 1 > ymax\n",
    "    C_zero = x1 - 1 < xmin or x1 - 1 > xmax or y2 < ymin or y2 > ymax\n",
    "    D_zero = x2 < xmin or x2 > xmax or y2 < ymin or y2 > ymax\n",
    "    \n",
    "    # Calculate sum of rectangular region Si\n",
    "    A = 0 if A_zero else ii[x1 - 1, y1 - 1]\n",
    "    B = 0 if B_zero else ii[x2, y1 - 1]\n",
    "    C = 0 if C_zero else ii[x1 - 1, y2]\n",
    "    D = 0 if D_zero else ii[x2, y2]\n",
    "    Si = D - B - C + A\n",
    "    return Si"
   ]
  },
  {
   "cell_type": "code",
   "execution_count": 10,
   "metadata": {
    "collapsed": false
   },
   "outputs": [
    {
     "data": {
      "image/png": "[encoded data removed]",
      "text/plain": [
       "<matplotlib.figure.Figure at 0x3568f6bf60>"
      ]
     },
     "metadata": {},
     "output_type": "display_data"
    }
   ],
   "source": [
    "# Original image i\n",
    "i = np.array([\n",
    "    [1, 1, 1],\n",
    "    [1, 1, 1],\n",
    "    [1, 1, 1]\n",
    "])\n",
    "\n",
    "# Rectangular region\n",
    "x1, y1 = (1, 1) # top-left\n",
    "x2, y2 = (2, 2) # bottom-right\n",
    "\n",
    "# Integral image pixel coordinates\n",
    "A = (x1 - 1, y1 - 1)\n",
    "B = (x2, y1 - 1)\n",
    "C = (x1 - 1, y2)\n",
    "D = (x2, y2)\n",
    "\n",
    "# Plot\n",
    "def add_Si_example(f, ax):\n",
    "    \"\"\"Adds a rectangular region and integral pixel letters to a pixel plot.\n",
    "    Args:\n",
    "        f (matplotlib.pyplot.figure):\n",
    "            A ``matplotlib.pyplot.figure`` object.\n",
    "        ax (maplotlib.pyplot.axis):\n",
    "            A ``matplotlib.pyplot.axis`` axis object.\n",
    "    \"\"\"\n",
    "    \n",
    "    # Add rectangular region\n",
    "    coor = [\n",
    "        (y1 - 0.5, x1 - 0.5),\n",
    "        (y2 + 0.5, x1 - 0.5),\n",
    "        (y2 + 0.5, x2 + 0.5),\n",
    "        (y1 - 0.5, x2 + 0.5)\n",
    "    ]\n",
    "    poly = Polygon(coor, color='gray', alpha=0.3)\n",
    "    ax.add_patch(poly)\n",
    "    ax.text(x1, y1, 'x1, y1', ha='center', va='center')\n",
    "    \n",
    "    # Add integral pixel letter labels\n",
    "    ax.text(A[0], A[1], 'A\\nx1-1, y1-1', ha='center', va='center')\n",
    "    ax.text(B[0], B[1], 'B\\nx2, y1-1', ha='center', va='center')\n",
    "    ax.text(C[0], C[1], 'C\\nx1-1, y2', ha='center', va='center')\n",
    "    ax.text(D[0], D[1], 'D\\nx2, y2', ha='center', va='center')\n",
    "plot_pixels(i, '_img/integral_sum.pdf', func=add_Si_example, labels=False)"
   ]
  },
  {
   "cell_type": "markdown",
   "metadata": {},
   "source": [
    "**Example**\n",
    "\n",
    "An example of calculating an integral image and summing a rectangular region is provided below."
   ]
  },
  {
   "cell_type": "markdown",
   "metadata": {},
   "source": [
    "Given an original image $i$ with 4 rows by 4 columns where each pixel has a value of 1 and coordinates are defined by $(x, y)$:"
   ]
  },
  {
   "cell_type": "code",
   "execution_count": 11,
   "metadata": {
    "collapsed": false
   },
   "outputs": [
    {
     "data": {
      "image/png": "[encoded data removed]",
      "text/plain": [
       "<matplotlib.figure.Figure at 0x3569054710>"
      ]
     },
     "metadata": {},
     "output_type": "display_data"
    }
   ],
   "source": [
    "# Original image i\n",
    "i = np.array([\n",
    "    [1, 1, 1, 1],\n",
    "    [1, 1, 1, 1],\n",
    "    [1, 1, 1, 1],\n",
    "    [1, 1, 1, 1]\n",
    "])\n",
    "plot_pixels(i, '_img/integral_i.pdf', coords=True)"
   ]
  },
  {
   "cell_type": "markdown",
   "metadata": {},
   "source": [
    "The integral image $ii$ for the first two rows and columns can be computed as follows:\n",
    "\n",
    "* **Row 1, Column 1**: $ii(1,1) = i(1,1)$\n",
    "* **Row 1, Column 2**: $ii(1,2) = i(1,1) + i(1,2) = 1 + 1 = 2$\n",
    "* **Row 2, Column 1**: $ii(2,1) = i(1,1) + i(2,1) = 1 + 1 = 2$\n",
    "* **Row 2, Column 2**: $ii(2,2) = i(1,1) + i(1,2) + i(1,3) + i(1,4) = 1 + 1 + 1 + 1 = 4$"
   ]
  },
  {
   "cell_type": "code",
   "execution_count": 12,
   "metadata": {
    "collapsed": false
   },
   "outputs": [
    {
     "data": {
      "image/png": "[encoded data removed]",
      "text/plain": [
       "<matplotlib.figure.Figure at 0x356908ff60>"
      ]
     },
     "metadata": {},
     "output_type": "display_data"
    }
   ],
   "source": [
    "# Initiate integral image ii as copy of i\n",
    "ii = np.copy(i)\n",
    "\n",
    "# Get x rows and y columns for ii\n",
    "rows = range(ii.shape[0])\n",
    "columns = range(ii.shape[1])\n",
    "\n",
    "# For each x and y, compute the integral pixels\n",
    "for x in rows:\n",
    "    for y in columns:\n",
    "        ii[x, y] = ii_xy(i, x, y)\n",
    "plot_pixels(ii, '_img/integral_ii.pdf', coords=True)"
   ]
  },
  {
   "cell_type": "markdown",
   "metadata": {},
   "source": [
    "A 3 by 3 rectangular region in gray for the original image, which requires 9 array accesses to calculate the sum of 9, is given below:\n",
    "\n",
    "* Bottom-left corner of region: $x_1, y_1 = 1, 1$\n",
    "* Top-left corner of region: $x_2, y_2 = 3, 3$"
   ]
  },
  {
   "cell_type": "code",
   "execution_count": 13,
   "metadata": {
    "collapsed": false
   },
   "outputs": [
    {
     "data": {
      "image/png": "[encoded data removed]",
      "text/plain": [
       "<matplotlib.figure.Figure at 0x35690e7e80>"
      ]
     },
     "metadata": {},
     "output_type": "display_data"
    }
   ],
   "source": [
    "# Rectangular region\n",
    "x1, y1 = (1, 1) # top-left\n",
    "x2, y2 = (3, 3) # bottom-right\n",
    "\n",
    "# Plot\n",
    "def add_rectangle(f, ax):\n",
    "    \"\"\"Adds a rectangular region to a pixel plot.\n",
    "    Args:\n",
    "        f (matplotlib.pyplot.figure):\n",
    "            A ``matplotlib.pyplot.figure`` object.\n",
    "        ax (maplotlib.pyplot.axis):\n",
    "            A ``matplotlib.pyplot.axis`` axis object.\n",
    "    \"\"\"\n",
    "    \n",
    "    # Add rectangular region\n",
    "    coor = [\n",
    "        (y1 - 0.5, x1 - 0.5),\n",
    "        (y2 + 0.5, x1 - 0.5),\n",
    "        (y2 + 0.5, x2 + 0.5),\n",
    "        (y1 - 0.5, x2 + 0.5)\n",
    "    ]\n",
    "    poly = Polygon(coor, color='gray', alpha=0.3)\n",
    "    ax.add_patch(poly)\n",
    "plot_pixels(i, '_img/integral_i_rectangle.pdf', func=add_rectangle, coords=True)"
   ]
  },
  {
   "cell_type": "markdown",
   "metadata": {},
   "source": [
    "The integral image can be used to calculate the sum of 9 with 4 array accesses instead:\n",
    "\n",
    "* Recall that $x_1, y_1 = 1, 1$ and $x_2, y_2 = 3, 3$\n",
    "* $A = ii(x_1 - 1, y_1 - 1) = ii(1 - 1, 1 - 1) = ii(0, 0) = 1$\n",
    "* $B = ii(x_2, y_1 - 1) = ii(3, 1 - 1) = ii(3, 0) = 4$\n",
    "* $C = ii(x_1 - 1, y_2) = ii(1 - 1, 3) = ii(0, 3) = 4$\n",
    "* $D = ii(x_2, y_2) = ii(3, 3) = 16$\n",
    "* $S_i(1, 1, 3, 3) = D - B - C + A = 16 - 4 - 4 + 1 = 9$"
   ]
  },
  {
   "cell_type": "code",
   "execution_count": 14,
   "metadata": {
    "collapsed": false,
    "scrolled": true
   },
   "outputs": [
    {
     "name": "stdout",
     "output_type": "stream",
     "text": [
      "The sum of the rectangular region of ii is: 9\n"
     ]
    },
    {
     "data": {
      "image/png": "[encoded data removed]",
      "text/plain": [
       "<matplotlib.figure.Figure at 0x3568d009b0>"
      ]
     },
     "metadata": {},
     "output_type": "display_data"
    }
   ],
   "source": [
    "# Integral image pixel coordinates\n",
    "A = (x1 - 1, y1 - 1)\n",
    "B = (x2, y1 - 1)\n",
    "C = (x1 - 1, y2)\n",
    "D = (x2, y2)\n",
    "\n",
    "# Plot\n",
    "def add_ABCD(f, ax):\n",
    "    \"\"\"Adds a rectangular region to a pixel plot.\n",
    "    Args:\n",
    "        f (matplotlib.pyplot.figure):\n",
    "            A ``matplotlib.pyplot.figure`` object.\n",
    "        ax (maplotlib.pyplot.axis):\n",
    "            A ``matplotlib.pyplot.axis`` axis object.\n",
    "    \"\"\"\n",
    "    \n",
    "    # Add rectangular region\n",
    "    coor = [\n",
    "        (y1 - 0.5, x1 - 0.5),\n",
    "        (y2 + 0.5, x1 - 0.5),\n",
    "        (y2 + 0.5, x2 + 0.5),\n",
    "        (y1 - 0.5, x2 + 0.5)\n",
    "    ]\n",
    "    poly = Polygon(coor, color='gray', alpha=0.3)\n",
    "    ax.add_patch(poly)\n",
    "    \n",
    "    # Add integral pixel letter labels\n",
    "    ax.text(A[0], A[1], 'A = 1\\n(0, 0)', color='white', backgroundcolor='gray', ha='center', va='center')\n",
    "    ax.text(B[0], B[1], 'B = 4\\n(3, 0)', color='white', backgroundcolor='gray', ha='center', va='center')\n",
    "    ax.text(C[0], C[1], 'C = 4\\n(0, 3)', color='white', backgroundcolor='gray', ha='center', va='center')\n",
    "    ax.text(D[0], D[1], 'D = 16\\n(3, 3)', color='white', backgroundcolor='gray', ha='center', va='center')\n",
    "print('The sum of the rectangular region of ii is: ' + str(Si(x1, y1, x2, y2, ii)))\n",
    "plot_pixels(ii, '_img/integral_ii_rectangle.pdf', func=add_ABCD)"
   ]
  },
  {
   "cell_type": "markdown",
   "metadata": {},
   "source": [
    "### Learning Classifiers"
   ]
  },
  {
   "cell_type": "markdown",
   "metadata": {
    "collapsed": true
   },
   "source": [
    "A machine learning algorithm known is used to learn classifiers for feature selection. Machine learning algorithms seek to optimize performance measures by learning from examples, known as training data, to generalize on new examples not seen in the learning process [5]. Classifiers are models generated by machine learning algorithms to determine whether the input data belongs to one or more known categories (classes) [6]. Adaboost combines several weak classifiers, using a process called boosting, to create a strong classifier [7, 8]. Weak classifiers are algorithms that perform slightly better than random guessing (for example, classifying a data sample correctly more than 50% of the time). These weak classifiers are combined to produce a strong classifier, which performs better than the individual weak classifiers, using a process called *boosting*. Boosting refers to iteritively learning weak classifiers using a vector of weights, where the weights are re-calculated based on performances of previous weak classifiers."
   ]
  },
  {
   "cell_type": "markdown",
   "metadata": {},
   "source": [
    "A modified Adaboost algorithm based on weak classifiers is described from Viola and Jones [9] below.\n",
    "\n",
    "A set of example images, their feature values, and their label (positive or negative) are given by: \n",
    "\n",
    "$$(x_i, f_{i, j}, y_i) \\ \\text{for} \\ i \\dots n_i \\ \\text{and} \\ j \\dots n_j \\text{, such that} \\ y_i \\in \\left\\{0, 1 \\right\\} $$\n",
    "\n",
    "where $x_i$ is example image $i$, $f_{i, j}$ is feature $j$ for image $i$, $y_i$ are the labels for example image $i$ (0 being negative and 1 being positive), $n_i$ is the number of example images, and $n_j$ is the number of features for $xi$.\n",
    "\n",
    "A set of weights are initialized for each of the example images:\n",
    "\n",
    "$$w_{1,i} = \n",
    "    \\begin{cases}\n",
    "        \\frac{1}{2m}: \\text{if} \\ y_i = 0 \\\\\n",
    "        \\frac{1}{2l}: \\text{if} \\ y_i = 1\\\\\n",
    "    \\end{cases}\n",
    "$$\n",
    "\n",
    "where $m$ is the number of negative example images, and $l$ is the number of positive images."
   ]
  },
  {
   "cell_type": "code",
   "execution_count": 15,
   "metadata": {
    "collapsed": true
   },
   "outputs": [],
   "source": [
    "def w1i(yi):\n",
    "    \"\"\"Function for initializing a set of weights.\n",
    "    Args:\n",
    "        yi (numpy.array):\n",
    "            A ``numpy.array`` representing positive or negative labels\n",
    "            for each example image xi in order.\n",
    "    Returns:\n",
    "        A ``numpy.array`` representing the initialized set of weights.\n",
    "    \"\"\"\n",
    "        \n",
    "    # Get m negatives and l positives\n",
    "    m = sum(yi[yi == 0])\n",
    "    l = sum(yi[yi == 1])\n",
    "\n",
    "    # Initialize weights as 1/(2m) and 1/(2l)\n",
    "    return [1 / (2 * m) if y == 0 else 1 / (2 * l) for y in yi]"
   ]
  },
  {
   "cell_type": "markdown",
   "metadata": {},
   "source": [
    "The inputs are $(x_i, f_{i,j}, y_i)$ and an initial set of weights $w_{i,j}$.\n",
    "\n",
    "$For \\ t=1 \\ \\dots \\ T$ iterations:\n",
    "\n",
    "* Create a probability distribution of normalized weights $w_{t,i}$, for each $t$, such that $w_{t,i}$ is in the range of 0 to 1 and sums to 1:\n",
    "\n",
    "    $$w_{t,i} = \\frac{w_{t,i}}{\\sum_{k=1}^{n_i}{w_{t,k}}}$$\n",
    "    \n",
    "    where $n_i$ is the number of example images, and $\\sum_{k=1}^{n_i}{w_{t,k}}$ is the sum of the weights for all images."
   ]
  },
  {
   "cell_type": "code",
   "execution_count": 16,
   "metadata": {
    "collapsed": true
   },
   "outputs": [],
   "source": [
    "def wti(w):\n",
    "    \"\"\"Function for normalizing a set of weights.\n",
    "    Args:\n",
    "        w (numpy.array):\n",
    "            A ``numpy.array`` representing the set of weights.\n",
    "    Returns:\n",
    "        A ``numpy.array`` with the normalized set of weights in\n",
    "        the range of 0 to 1.\n",
    "    \"\"\"\n",
    "    return w / sum(w)"
   ]
  },
  {
   "cell_type": "markdown",
   "metadata": {},
   "source": [
    "* Train a weak classifier $h_j(x)$ for each feature $j$ using example images $xi$ and their labels $yi$. Viola and Jones uses a decision stump as the weak classifier defined below:\n",
    "\n",
    "    $$h(x, f, p, \\theta) = \n",
    "        \\begin{cases}\n",
    "            1: \\text{if} \\ p \\ f(x) \\lt p \\theta \\\\\n",
    "            0: \\text{otherwise} \\\\\n",
    "        \\end{cases}\n",
    "    $$\n",
    "\n",
    "    where $h(x)$ is the weak classifier for a feature given example image $x$ defined by a sub-window (such as a 24 by 24 rectangular sub-region), $p$ is the parity representing the direction of the inequality sign (positive or negative), $f(x)$ is the single value for the rectangular feature of $x$, and $\\theta$ is a threshold. The threshold $\\theta$ is learned by training a decision stump to first order the feature values $f$ from lowest to highest for each image $x$, followed by selecting the feature value that optimizes $h$ for the lowest error measure defined by Viola and Jones:\n",
    "    \n",
    "    $$e = \\min(S^+ + (T^- - S^-), S^- + (T^+ - S^+))$$\n",
    "    \n",
    "    where $S^+$ is the sum of positive weights below the current feature value $f$, $S^-$ is the sum of negative weights below the current feature value $f$, $T^+$ is the total sum of all positive example weights, and $T^-$ is the total sum of all negative example weights. This error can be interpreted as a measure of the minimum error of labeling examples below a feature value and above a feature value given the weights [9]. The feature value with the minimum error $e$ is then selected as the threshold $\\theta{_j}$."
   ]
  },
  {
   "cell_type": "code",
   "execution_count": 17,
   "metadata": {
    "collapsed": false
   },
   "outputs": [],
   "source": [
    "def e(S_plus, S_minus, T_plus, T_minus):\n",
    "    \"\"\"Function representing a weak classifier.\n",
    "    Args:\n",
    "        S_plus (num):\n",
    "            Numeric value or ``numpy.array`` of the sum(s) of positive weights \n",
    "            below a feature j.\n",
    "        S_minus (num):\n",
    "            Numeric value or ``numpy.array`` of the sum(s) of negative weights \n",
    "            below a feature j.\n",
    "        T_plus (num):\n",
    "            Numeric value or ``numpy.array`` of the sum(s) of positive weights.\n",
    "        T_minus(num)):\n",
    "            Numeric value or ``numpy.array`` of the sum(s) of negative weights.\n",
    "    Returns:\n",
    "        A numeric value of the error for a decision stump weak classifier\n",
    "        given a feature j for example i.\n",
    "    \"\"\"\n",
    "    return min([S_plus + (T_minus - S_plus), S_minus + (T_plus - S_minus)])\n",
    "\n",
    "def thetaj(fj, yi, wti):\n",
    "    \"\"\"Function representing a weak classifier.\n",
    "    Args:\n",
    "        f (numpy.array):\n",
    "            A ``numpy.array`` of feature j values for each example image.\n",
    "        wti (numpy.array):\n",
    "            A ``numpy.array`` with the normalized set of weights in \n",
    "            the range of 0 to 1 for each example image.\n",
    "    Returns:\n",
    "        A numeric value of the optimized theta threshold.\n",
    "    \"\"\"\n",
    "    ni = len(yi)\n",
    "    \n",
    "    # Sort weights, labels, and features\n",
    "    sort = np.argsort(fj) # sorted indices\n",
    "    fj = fj[sort] # sorted feature values\n",
    "    yi = yi[sort] # sorted labels\n",
    "    wti = wti[sort] # sorted weights\n",
    "    \n",
    "    # Obtain sums of all positive and negative weights\n",
    "    T_plus = sum(wti[yi == 1])\n",
    "    T_minus = sum(wti[yi == 0])\n",
    "    \n",
    "    # Get the errors for each feature j\n",
    "    ei = np.zeros(ni)\n",
    "    for i in range(ni):\n",
    "        below = range(i + 1)\n",
    "        positives = yi[below] == 1\n",
    "        negatives = yi[below] == 0\n",
    "        S_plus = sum(wti[below][positives])\n",
    "        S_minus = sum(wti[below][negatives])\n",
    "        ei[i] = e(S_plus, S_minus, T_plus, T_minus)\n",
    "        \n",
    "    # Return the threshold\n",
    "    emin = np.argsort(ei)[0]\n",
    "    return fj[emin]\n",
    "\n",
    "class h:\n",
    "    \"\"\"Class for a weak hypothesis classifier.\n",
    "    Args:\n",
    "        p (1 or -1):\n",
    "            A number representing the parity.\n",
    "        theta(num):\n",
    "            A number representing the optimized threshold learned from\n",
    "            a set of training examples.\n",
    "    Attributes:\n",
    "        p (1 or -1):\n",
    "            Same as argument p.\n",
    "        theta (num):\n",
    "            Same as argument theta.\n",
    "    Examples::\n",
    "        # Some example values\n",
    "        f = np.random.rand(1, 5) # feature values\n",
    "        y = np.array([1,0,0,1,1]) # labels\n",
    "        w = wti(w1i(y)) # normalized weights\n",
    "        \n",
    "        # Optimize threshold\n",
    "        theta = thetaj(f, y, w)\n",
    "    \"\"\"\n",
    "    def __init__(self, p, theta):\n",
    "        self.p = p\n",
    "        self.theta = theta\n",
    "        \n",
    "    def classify(self, f):\n",
    "        \"\"\"Method for classifying an example given its feature value.\n",
    "        Args:\n",
    "            f (num):\n",
    "                A number representing the feature value for an example\n",
    "                image xi.\n",
    "        Returns:\n",
    "            A numeric value of 1 if ``self.p`` * ``f`` < ``self.p`` * ``self.theta`` \n",
    "            and 0 otherwise.\n",
    "        \"\"\"\n",
    "        p = self.p\n",
    "        theta = self.theta\n",
    "        return 1 if p * f < p * theta else 0\n",
    "    "
   ]
  },
  {
   "cell_type": "markdown",
   "metadata": {},
   "source": [
    "* Choose the classifier $h_j$ with the lowest error $\\epsilon_j$ defined by:\n",
    "    \n",
    "    $$\\epsilon_j = \\sum_i^n{w_i \\left\\lvert h_j(x_i, f_j, p, \\theta_j) - y_i \\right\\rvert}$$\n",
    "    \n",
    "    where $h_j(x_i, f_j, p, \\theta_j)$ is the predicted label (0 negative or 1 for positive), and $y_i$ is the true label. \n",
    "    \n",
    "    The classifier with the lowest error $h_t$ minimizes $\\epsilon_j$ by optimizing $\\theta_j$ and $p$:\n",
    "    \n",
    "    $$\\min_{\\theta_j \\ \\in \\ \\mathbb{R}, \\ p \\ \\in \\ \\left\\{ +1,-1 \\right\\}}\\epsilon_j(x_i, f_j, p, \\theta_j)$$"
   ]
  },
  {
   "cell_type": "code",
   "execution_count": 18,
   "metadata": {
    "collapsed": true
   },
   "outputs": [],
   "source": [
    "def ej(wi, hj, yi):\n",
    "    \"\"\"Function for measuring weak classifier error.\n",
    "    Args:\n",
    "        wi (numpy.array):\n",
    "            A ``numpy.array`` representing the set of normalized weights.\n",
    "        hj (numpy.array):\n",
    "            A ``numpy.array`` of the predicted labels of example images xi.\n",
    "        yi (numpy.array):\n",
    "            A ``numpy.array`` of the true labels of example images xi.\n",
    "    Returns:\n",
    "        A ``numpy.array`` of the error measures for each weak classifier.\n",
    "    \"\"\"\n",
    "    return sum(wi * np.absolute(hj - yi))"
   ]
  },
  {
   "cell_type": "markdown",
   "metadata": {},
   "source": [
    "* Update the weights using the following equation:\n",
    "    \n",
    "    $$w_{t+1,i} = w_{t,i} \\beta_t^{1-e_j}$$\n",
    "    \n",
    "    where $\\beta_t$ is $\\frac{\\epsilon_t}{1-\\epsilon_t}$."
   ]
  },
  {
   "cell_type": "code",
   "execution_count": 19,
   "metadata": {
    "collapsed": false
   },
   "outputs": [],
   "source": [
    "def wti_update(wti, ej):\n",
    "    \"\"\"Function for measuring weak classifier error.\n",
    "    Args:\n",
    "        wti (numpy.array):\n",
    "            A ``numpy.array`` representing the set of normalized weights.\n",
    "        ej (numpy.array):\n",
    "            A ``numpy.array`` of the error values of each classifier hj.\n",
    "    Returns:\n",
    "        A ``numpy.array`` of the updated weights for each example image xi.\n",
    "    \"\"\"\n",
    "    beta = ej / (1 - ej)\n",
    "    return wti * pow(beta, 1 - ej)"
   ]
  },
  {
   "cell_type": "markdown",
   "metadata": {},
   "source": [
    "After going through the iterations $T$, the final strong classifier $C(x)$ is then:\n",
    "\n",
    "$$C(x) = \n",
    "\\begin{cases}\n",
    "    1: \\text{if} \\ \\sum_{t=1}^T{\\alpha_t h_t(x) \\geq \\frac{1}{2} \\sum_{t=1}^T{\\alpha_t}} \\\\\n",
    "    0: \\text{otherwise} \\\\\n",
    "\\end{cases}\n",
    "$$\n",
    "\n",
    "where $\\alpha_t = \\log \\frac{1}{B_t}$, and $h_t$ are the weak classifiers learned from $t$ iterations. This strong classifier is the combination of the weak classifiers."
   ]
  },
  {
   "cell_type": "code",
   "execution_count": 20,
   "metadata": {
    "collapsed": false
   },
   "outputs": [],
   "source": [
    "class C:\n",
    "    \"\"\"Method for making a strong classification from weak classifiers.\n",
    "    Args:\n",
    "        ht (listof h):\n",
    "            A list of weak classifier ``h`` objects with method classify(f).\n",
    "        alpha (numy.array):\n",
    "            A ``numpy.array`` representing the alpha values for iteration t.\n",
    "        beta (num):\n",
    "            A ``numpy.array`` representing the beta values for iteration t.\n",
    "    Attributes:\n",
    "        ht (listof h):\n",
    "            Same as argument ``ht``.\n",
    "        alpha (num):\n",
    "            Same as argument ``alpha``.\n",
    "        beta (num):\n",
    "            Same as argument ``beta``.\n",
    "    \"\"\"\n",
    "    def __init__(self, ht, alpha, beta):\n",
    "        self.ht = ht\n",
    "        self.alpha = alpha\n",
    "        self.beta = beta\n",
    "        \n",
    "    def classify(self, fj):\n",
    "        \"\"\"Method for making a strong classification from weak classifiers.\n",
    "        Args:\n",
    "            f (numpy.array):\n",
    "                A ``numpy.array`` of feature values for an example\n",
    "                image x.\n",
    "        Returns:\n",
    "            A numeric value of the predicted label 1 for positive and 0 for negative.\n",
    "        \"\"\"\n",
    "        alpha = log(1 / beta)\n",
    "        ht_x = [ht.classify(f) for f in fj for ht in self.ht]\n",
    "        return 1 if sum(alpha * ht_x) >= (1/2) * sum(alpha) else 0"
   ]
  },
  {
   "cell_type": "markdown",
   "metadata": {},
   "source": [
    "## References\n",
    "\n",
    "* [1] [Rapid Object Detection using a Boosted Cascade of Simple Features](http://wearables.cc.gatech.edu/paper_of_week/viola01rapid.pdf) by Paul Viola and Michael Jones\n",
    "* [2] C. Papageorgiou, M. Oren, and T. Poggio. A general framework for object detection. In International Conference on Computer Vision, 1998.\n",
    "* [3] [An Extended Set of Haar-like Features for Rapid Object Detection](https://pdfs.semanticscholar.org/72e0/8cf12730135c5ccd7234036e04536218b6c1.pdf) by Rainer Lienhart and Jochen Maydt\n",
    "* [4] [Summed-Area Tables for Texture Mapping](http://www.florian-oeser.de/wordpress/wp-content/2012/10/crow-1984.pdf) by Fraklin C. Crow\n",
    "* [5] [A Few Useful Things to Know about Machine Learning](https://homes.cs.washington.edu/~pedrod/papers/cacm12.pdf) by Pedro Domingos\n",
    "* [6] [Machine learning: a review of classification and combining techniques](http://www.cs.bham.ac.uk/~pxt/IDA/class_rev.pdf) by Sotiris B. Kotsiantis, Ioannis D Zaharakis, and  Panayotis E Pintelas\n",
    "* [7] [A Decision-Theoretic Generalization of On-Line Learning and an Application to Boosting](http://www.face-rec.org/algorithms/Boosting-Ensemble/decision-theoretic_generalization.pdf) by Yoav Freund and Robert E. Schapire\n",
    "* [8] [A Short Introduction to Boosting](http://www.yorku.ca/gisweb/eats4400/boost.pdf) by Yoav Freund and Robert E. Schapire\n",
    "* [9] [Robust Real-Time Face Detection](http://www.vision.caltech.edu/html-files/EE148-2005-Spring/pprs/viola04ijcv.pdf) by Paul Viola and Michael Jones\n",
    "* [Detecting pedestrians using patterns of motion and appearance](http://www.merl.com/publications/docs/TR2003-90.pdf) by Paul Viola, Michael Jones, and Daniel Snow. \n",
    "* [Haar-like features with optimally weighted rectangles for rapid object detection](https://pdfs.semanticscholar.org/4192/79b5d21234737b10715fd785eeb51b317767.pdf) by Sri-Kaushik Pavani, David Delgado, Alejandro F. Frangi\n",
    "* [Implementing the Viola-Jones Face Detection Algorithm](https://pdfs.semanticscholar.org/40b1/0e330a5511a6a45f42c8b86da222504c717f.pdf) by Ole Helvig Jensen\n"
   ]
  }
 ],
 "metadata": {
  "kernelspec": {
   "display_name": "Python 3",
   "language": "python",
   "name": "python3"
  },
  "language_info": {
   "codemirror_mode": {
    "name": "ipython",
    "version": 3
   },
   "file_extension": ".py",
   "mimetype": "text/x-python",
   "name": "python",
   "nbconvert_exporter": "python",
   "pygments_lexer": "ipython3",
   "version": "3.6.1"
  }
 },
 "nbformat": 4,
 "nbformat_minor": 2
}
